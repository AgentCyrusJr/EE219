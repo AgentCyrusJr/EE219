{
 "cells": [
  {
   "cell_type": "code",
   "execution_count": 1,
   "metadata": {
    "collapsed": false,
    "deletable": true,
    "editable": true
   },
   "outputs": [
    {
     "name": "stdout",
     "output_type": "stream",
     "text": [
      "loading tweets\n",
      "174978\n",
      "19914\n",
      "1153875\n"
     ]
    }
   ],
   "source": [
    "import json\n",
    "import datetime, time\n",
    "date1 = datetime.datetime(2015,02,01, 8,0,0)\n",
    "date2 = datetime.datetime(2015,02,01, 20,0,0)\n",
    "time1 = int(time.mktime(date1.timetuple()))\n",
    "time2 = int(time.mktime(date2.timetuple()))\n",
    "title_period1 = []\n",
    "title_period2 = []\n",
    "title_period3 = []\n",
    "f = open('title_time.json')\n",
    "line = f.readline()\n",
    "\n",
    "print (\"loading tweets\")\n",
    "\n",
    "while len(line)!= 0:\n",
    "    tweet = json.loads(line)\n",
    "    tweet_time = tweet['firstpost_date']\n",
    "    if (tweet_time < time1):\n",
    "        title_period1.append(tweet['title'])\n",
    "    elif (tweet_time < time2):\n",
    "        title_period2.append(tweet['title'])\n",
    "    else:\n",
    "        title_period3.append(tweet['title'])\n",
    "    line = f.readline()\n",
    "\n",
    "print (len(title_period1))\n",
    "# print (title_period1[:2])\n",
    "print (len(title_period2))\n",
    "# print (title_period2[:2])\n",
    "print (len(title_period3))\n",
    "# print (title_period3[:2])"
   ]
  },
  {
   "cell_type": "code",
   "execution_count": 2,
   "metadata": {
    "collapsed": false,
    "deletable": true,
    "editable": true
   },
   "outputs": [],
   "source": [
    "from sklearn.feature_extraction.text import TfidfVectorizer, CountVectorizer\n",
    "from sklearn.decomposition import NMF, LatentDirichletAllocation\n",
    "from time import time\n",
    "\n",
    "n_features = 20\n",
    "n_topics = 10\n",
    "# n_top_words = 20\n",
    "\n",
    "# def print_top_words(model, feature_names, n_top_words): \n",
    "#     for topic_idx, topic in enumerate(model.components_):\n",
    "#         print(\"Topic #%d:\" % topic_idx)\n",
    "#         print(\" \".join([feature_names[i]\n",
    "#             for i in topic.argsort()[:-n_top_words - 1:-1]]))\n",
    "#     print()"
   ]
  },
  {
   "cell_type": "code",
   "execution_count": 3,
   "metadata": {
    "collapsed": true,
    "deletable": true,
    "editable": true
   },
   "outputs": [],
   "source": [
    "# from sklearn.feature_extraction import text\n",
    "# import re\n",
    "# import nltk \n",
    "# import string\n",
    "# import numpy as np\n",
    "\n",
    "# from nltk.stem.snowball import SnowballStemmer\n",
    "# from nltk.tag import pos_tag\n",
    "\n",
    "# stop_words = text.ENGLISH_STOP_WORDS\n",
    "# stemmer = SnowballStemmer(\"english\")\n",
    "\n",
    "# def tokenizer_fun(text):\n",
    "#     new_text = re.sub(r'[^A-Za-z]', \" \", text)\n",
    "#     new_text = re.sub(\"[,.-:/()?{}*$#&]\",\" \",new_text)  # remove all symbols\n",
    "#     new_text = \"\".join([ch for ch in new_text if ch not in string.punctuation])  # remove all punctuation\n",
    "#     new_text = \"\".join(ch for ch in new_text if ord(ch) < 128)  # remove all non-ascii characters\n",
    "#     new_text = new_text.lower() # convert to lowercase\n",
    "#     tokens =[word for sent in nltk.sent_tokenize(new_text) for word in nltk.word_tokenize(sent)]\n",
    "#     new_tokens = []\n",
    "#     for token in tokens:\n",
    "#         if re.search('[a-zA-Z]{2,}', token):\n",
    "#             new_tokens.append(token)     \n",
    "#     stem = [stemmer.stem(t) for t in new_tokens]\n",
    "#     tagged_sent = pos_tag(stem)\n",
    "#     new_stem = [word for word,pos in tagged_sent if pos == 'NN'] # remove all non-noun words\n",
    "#     return new_stem"
   ]
  },
  {
   "cell_type": "code",
   "execution_count": 4,
   "metadata": {
    "collapsed": false,
    "deletable": true,
    "editable": true
   },
   "outputs": [
    {
     "name": "stdout",
     "output_type": "stream",
     "text": [
      "Extracting tf-idf features for NMF...\n",
      "done in 0.003s.\n"
     ]
    }
   ],
   "source": [
    "t0 = time()\n",
    "print(\"Extracting tf-idf features for NMF...\")\n",
    "tfidf_vectorizer = TfidfVectorizer(max_df=0.95, min_df=2, max_features=n_features,stop_words='english') # 6s\n",
    "# tfidf_vectorizer = TfidfVectorizer(analyzer='word',tokenizer=tokenizer_fun, stop_words=stop_words,token_pattern='[a-zA-Z]{2,}', norm = 'l2', max_df=0.95, min_df=2, max_features=n_features) # 480s\n",
    "print(\"done in %0.3fs.\" % (time() - t0))"
   ]
  },
  {
   "cell_type": "code",
   "execution_count": 5,
   "metadata": {
    "collapsed": false,
    "deletable": true,
    "editable": true
   },
   "outputs": [
    {
     "name": "stdout",
     "output_type": "stream",
     "text": [
      "done in 6.962s.\n"
     ]
    }
   ],
   "source": [
    "t0 = time()\n",
    "tfidf1 = tfidf_vectorizer.fit_transform(title_period1)\n",
    "# tfidf2 = tfidf_vectorizer.fit_transform(title_period2)\n",
    "# tfidf3 = tfidf_vectorizer.fit_transform(title_period3)\n",
    "print(\"done in %0.3fs.\" % (time() - t0))"
   ]
  },
  {
   "cell_type": "code",
   "execution_count": 6,
   "metadata": {
    "collapsed": false,
    "deletable": true,
    "editable": true
   },
   "outputs": [],
   "source": [
    "# t0 = time()\n",
    "# nmf1 = NMF(n_components=n_topics, random_state=1, alpha=.1, l1_ratio=.5).fit(tfidf1)\n",
    "# exit()\n",
    "# print(\"done in %0.3fs.\" % (time() - t0))\n",
    "\n",
    "# print(\"\\nTopics in NMF model:\")\n",
    "# tfidf_feature_names = tfidf_vectorizer.get_feature_names()\n",
    "# print_top_words(nmf1, tfidf_feature_names, n_top_words)"
   ]
  },
  {
   "cell_type": "code",
   "execution_count": 7,
   "metadata": {
    "collapsed": false,
    "deletable": true,
    "editable": true
   },
   "outputs": [
    {
     "name": "stdout",
     "output_type": "stream",
     "text": [
      "[u'http', u'el', u'en', u'win', u'patriots', u'seahawks', u'superbowlxlix', u'super', u'amp', u'game', u'bowl', u'sunday', u'nfl', u'going', u'seattle', u'que', u'vs', u'gohawks', u'superbowl', u'just']\n"
     ]
    }
   ],
   "source": [
    "print (tfidf_vectorizer.vocabulary_.keys())"
   ]
  },
  {
   "cell_type": "code",
   "execution_count": 8,
   "metadata": {
    "collapsed": false,
    "deletable": true,
    "editable": true
   },
   "outputs": [
    {
     "name": "stdout",
     "output_type": "stream",
     "text": [
      "[u'rt', u'tomorrow', u'amp', u'party', u'http', u'football', u'seahawks', u'el', u'sunday', u'nfl', u'game', u'win', u'ready', u'patriots', u'superbowlxlix', u'https', u'super', u'day', u'sb49', u'bowl']\n",
      "[u'perry', u'halftime', u'super', u'katyperry', u'katy', u'bowl', u'sb49', u'brady', u'superbowl', u'just', u'patriots', u'superbowlxlix', u'nfl', u'superbowlcommercials', u'commercial', u'http', u'el', u'seahawks', u'game', u'time']\n"
     ]
    }
   ],
   "source": [
    "tfidf2 = tfidf_vectorizer.fit_transform(title_period2)\n",
    "print (tfidf_vectorizer.vocabulary_.keys())\n",
    "\n",
    "tfidf3 = tfidf_vectorizer.fit_transform(title_period3)\n",
    "print (tfidf_vectorizer.vocabulary_.keys())"
   ]
  }
 ],
 "metadata": {
  "anaconda-cloud": {},
  "kernelspec": {
   "display_name": "Python [default]",
   "language": "python",
   "name": "python2"
  },
  "language_info": {
   "codemirror_mode": {
    "name": "ipython",
    "version": 2
   },
   "file_extension": ".py",
   "mimetype": "text/x-python",
   "name": "python",
   "nbconvert_exporter": "python",
   "pygments_lexer": "ipython2",
   "version": "2.7.12"
  }
 },
 "nbformat": 4,
 "nbformat_minor": 1
}
