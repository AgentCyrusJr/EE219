{
 "cells": [
  {
   "cell_type": "code",
   "execution_count": 1,
   "metadata": {
    "collapsed": false
   },
   "outputs": [
    {
     "name": "stderr",
     "output_type": "stream",
     "text": [
      "/Users/zhangyanming/anaconda/lib/python2.7/site-packages/matplotlib/font_manager.py:273: UserWarning: Matplotlib is building the font cache using fc-list. This may take a moment.\n",
      "  warnings.warn('Matplotlib is building the font cache using fc-list. This may take a moment.')\n"
     ]
    }
   ],
   "source": [
    "# -*- coding: utf-8 -*-\n",
    "from sklearn.datasets import fetch_20newsgroups\n",
    "import numpy as np\n",
    "import matplotlib.pyplot as plt"
   ]
  },
  {
   "cell_type": "code",
   "execution_count": 2,
   "metadata": {
    "collapsed": true
   },
   "outputs": [],
   "source": [
    "class1 = ['comp.graphics', 'comp.os.ms-windows.misc', 'comp.sys.ibm.pc.hardware', 'comp.sys.mac.hardware'];\n",
    "class2 = ['rec.autos', 'rec.motorcycles', 'rec.sport.baseball', 'rec.sport.hockey'];\n",
    "class1_train = fetch_20newsgroups(subset = 'train', categories = class1, shuffle=True, random_state=42, remove=('headers','footers','quotes'));\n",
    "class2_train = fetch_20newsgroups(subset = 'train', categories = class2, shuffle=True, random_state=42, remove=('headers','footers','quotes'));"
   ]
  },
  {
   "cell_type": "markdown",
   "metadata": {},
   "source": [
    "## Problem 1)"
   ]
  },
  {
   "cell_type": "code",
   "execution_count": 3,
   "metadata": {
    "collapsed": true
   },
   "outputs": [],
   "source": [
    "from sklearn.feature_extraction import text\n",
    "import re\n",
    "import nltk \n",
    "import string\n",
    "import numpy as np\n",
    "from sklearn.feature_extraction import text"
   ]
  },
  {
   "cell_type": "code",
   "execution_count": 4,
   "metadata": {
    "collapsed": true
   },
   "outputs": [],
   "source": [
    "stop_words = text.ENGLISH_STOP_WORDS\n",
    "\n",
    "from nltk.stem.snowball import SnowballStemmer\n",
    "from nltk.tag import pos_tag\n",
    "stemmer = SnowballStemmer(\"english\")\n",
    "\n",
    "def tokenizer_fun(text):\n",
    "    new_text = re.sub(r'[^A-Za-z]', \" \", text)\n",
    "    new_text = re.sub(\"[,.-:/()?{}*$#&]\",\" \",new_text)  # remove all symbols\n",
    "    new_text = \"\".join([ch for ch in new_text if ch not in string.punctuation])  # remove all punctuation\n",
    "    new_text = \"\".join(ch for ch in new_text if ord(ch) < 128)  # remove all non-ascii characters\n",
    "    new_text = new_text.lower() # convert to lowercase\n",
    "    tokens =[word for sent in nltk.sent_tokenize(new_text) for word in nltk.word_tokenize(sent)]\n",
    "    new_tokens = []\n",
    "    for token in tokens:\n",
    "        if re.search('[a-zA-Z]{2,}', token):\n",
    "            new_tokens.append(token)     \n",
    "    stem = [stemmer.stem(t) for t in new_tokens]\n",
    "    tagged_sent = pos_tag(stem)\n",
    "    new_stem = [word for word,pos in tagged_sent if pos == 'NN'] # remove all non-noun words\n",
    "    return new_stem"
   ]
  },
  {
   "cell_type": "code",
   "execution_count": 14,
   "metadata": {
    "collapsed": false
   },
   "outputs": [],
   "source": [
    "from sklearn.datasets import fetch_20newsgroups\n",
    "# total_train = fetch_20newsgroups(subset='train', shuffle=True, random_state=42, categories = class1+class2, remove=('headers','footers','quotes'))\n",
    "# total_test = fetch_20newsgroups(subset='test', shuffle=True, random_state=42, categories = class1+class2, remove=('headers','footers','quotes'))\n",
    "total_all = fetch_20newsgroups(subset='all', shuffle=True, random_state=42, categories = class1+class2, remove=('headers','footers','quotes'))\n",
    "\n",
    "from sklearn.feature_extraction.text import TfidfVectorizer\n",
    "# Normalize features\n",
    "n_features = 10000\n",
    "TFxIDF = TfidfVectorizer(analyzer='word',tokenizer=tokenizer_fun, stop_words=stop_words,token_pattern='[a-zA-Z]{2,}', norm = 'l2', max_df=0.95, min_df=2, max_features=n_features)\n",
    "# TFxIDF_train = TFxIDF.fit_transform(total_train.data)\n",
    "# TFxIDF_test  = TFxIDF.transform(total_test.data)\n",
    "TFxIDF_all  = TFxIDF.fit_transform(total_all.data)"
   ]
  },
  {
   "cell_type": "code",
   "execution_count": 15,
   "metadata": {
    "collapsed": false
   },
   "outputs": [
    {
     "name": "stdout",
     "output_type": "stream",
     "text": [
      "(7882, 10000)\n"
     ]
    }
   ],
   "source": [
    "# print TFxIDF_train.shape\n",
    "# print TFxIDF_test.shape\n",
    "print TFxIDF_all.shape"
   ]
  },
  {
   "cell_type": "code",
   "execution_count": 113,
   "metadata": {
    "collapsed": false
   },
   "outputs": [],
   "source": [
    "# tfidf_feature_names = TFxIDF.get_feature_names()\n",
    "# print tfidf_feature_names"
   ]
  },
  {
   "cell_type": "markdown",
   "metadata": {},
   "source": [
    "## Problem 2)"
   ]
  },
  {
   "cell_type": "code",
   "execution_count": 17,
   "metadata": {
    "collapsed": true
   },
   "outputs": [],
   "source": [
    "from sklearn.cluster import KMeans\n",
    "# kmeans = KMeans(n_clusters=2, max_iter = 1000, random_state=42).fit(TFxIDF_train)\n",
    "km = KMeans(n_clusters=2, max_iter = 1000, random_state=42).fit(TFxIDF_all)"
   ]
  },
  {
   "cell_type": "code",
   "execution_count": 76,
   "metadata": {
    "collapsed": false
   },
   "outputs": [
    {
     "name": "stdout",
     "output_type": "stream",
     "text": [
      "[1 0 1 0 0 0]\n",
      "[1, 0, 1, 0, 1, 1]\n",
      "Homogeneity: 0.134\n",
      "Completeness: 0.238\n",
      "Adjusted Rand-Index: 0.063\n",
      "Adjusted_Mutual_Info_Score: 0.134\n"
     ]
    }
   ],
   "source": [
    "from sklearn import metrics\n",
    "# group the subclasses into 2 superclasses \n",
    "labels = [ int(x / 4) for x in total_all.target]\n",
    "# print km.labels_[22:28]\n",
    "# print labels[22:28]\n",
    "\n",
    "print(\"Homogeneity: %0.3f\" % metrics.homogeneity_score(labels, km.labels_))\n",
    "print(\"Completeness: %0.3f\" % metrics.completeness_score(labels, km.labels_))\n",
    "print(\"Adjusted Rand-Index: %.3f\"\n",
    "      % metrics.adjusted_rand_score(labels, km.labels_))\n",
    "print(\"Adjusted_Mutual_Info_Score: %.3f\"\n",
    "      % metrics.adjusted_mutual_info_score(labels, km.labels_))"
   ]
  },
  {
   "cell_type": "markdown",
   "metadata": {},
   "source": [
    "## Problem 3)"
   ]
  },
  {
   "cell_type": "markdown",
   "metadata": {},
   "source": [
    "### LSI, Truncated SVD"
   ]
  },
  {
   "cell_type": "code",
   "execution_count": 77,
   "metadata": {
    "collapsed": true
   },
   "outputs": [],
   "source": [
    "from sklearn.decomposition import TruncatedSVD\n",
    "n_components = 200 #待调参数\n",
    "svd = TruncatedSVD(n_components=n_components, algorithm='arpack')\n",
    "all_LSI = svd.fit_transform(TFxIDF_all)"
   ]
  },
  {
   "cell_type": "code",
   "execution_count": 78,
   "metadata": {
    "collapsed": true
   },
   "outputs": [],
   "source": [
    "kmLSI = KMeans(n_clusters=2, max_iter = 1000, random_state=42).fit(all_LSI)"
   ]
  },
  {
   "cell_type": "code",
   "execution_count": 79,
   "metadata": {
    "collapsed": false
   },
   "outputs": [
    {
     "name": "stdout",
     "output_type": "stream",
     "text": [
      "Homogeneity: 0.137\n",
      "Completeness: 0.240\n",
      "Adjusted Rand-Index: 0.065\n",
      "Adjusted_Mutual_Info_Score: 0.136\n"
     ]
    }
   ],
   "source": [
    "print(\"Homogeneity: %0.3f\" % metrics.homogeneity_score(labels, kmLSI.labels_))\n",
    "print(\"Completeness: %0.3f\" % metrics.completeness_score(labels, kmLSI.labels_))\n",
    "print(\"Adjusted Rand-Index: %.3f\"\n",
    "      % metrics.adjusted_rand_score(labels, kmLSI.labels_))\n",
    "print(\"Adjusted_Mutual_Info_Score: %.3f\"\n",
    "      % metrics.adjusted_mutual_info_score(labels, kmLSI.labels_))"
   ]
  },
  {
   "cell_type": "markdown",
   "metadata": {},
   "source": [
    "### NMF, Non-Negative Matrix Factorization"
   ]
  },
  {
   "cell_type": "code",
   "execution_count": 86,
   "metadata": {
    "collapsed": true
   },
   "outputs": [],
   "source": [
    "from sklearn.decomposition import NMF\n",
    "n_components = 600\n",
    "nmf = NMF(n_components=n_components, init = 'nndsvd', random_state=0, alpha=.1, l1_ratio=0).fit(TFxIDF_all)\n",
    "all_NMF = nmf.fit_transform(TFxIDF_all)\n",
    "# train_NMF = nmf.fit_transform(TFxIDF_train)\n",
    "# test_NMF  = nmf.transform(TFxIDF_test)"
   ]
  },
  {
   "cell_type": "code",
   "execution_count": 87,
   "metadata": {
    "collapsed": false
   },
   "outputs": [],
   "source": [
    "kmNMF = KMeans(n_clusters=2, max_iter = 1000, random_state=42).fit(all_NMF)"
   ]
  },
  {
   "cell_type": "code",
   "execution_count": 88,
   "metadata": {
    "collapsed": false
   },
   "outputs": [
    {
     "name": "stdout",
     "output_type": "stream",
     "text": [
      "Homogeneity: 0.488\n",
      "Completeness: 0.516\n",
      "Adjusted Rand-Index: 0.519\n",
      "Adjusted_Mutual_Info_Score: 0.488\n"
     ]
    }
   ],
   "source": [
    "print(\"Homogeneity: %0.3f\" % metrics.homogeneity_score(labels, kmNMF.labels_))\n",
    "print(\"Completeness: %0.3f\" % metrics.completeness_score(labels, kmNMF.labels_))\n",
    "print(\"Adjusted Rand-Index: %.3f\"\n",
    "      % metrics.adjusted_rand_score(labels, kmNMF.labels_))\n",
    "print(\"Adjusted_Mutual_Info_Score: %.3f\"\n",
    "      % metrics.adjusted_mutual_info_score(labels, kmNMF.labels_))"
   ]
  },
  {
   "cell_type": "code",
   "execution_count": null,
   "metadata": {
    "collapsed": true
   },
   "outputs": [],
   "source": [
    "# 10 :\n",
    "#     Homogeneity: 0.144\n",
    "#     Completeness: 0.244\n",
    "#     Adjusted Rand-Index: 0.073\n",
    "#     Adjusted_Mutual_Info_Score: 0.144\n",
    "\n",
    "# 100 :\n",
    "# Homogeneity: 0.411\n",
    "# Completeness: 0.449\n",
    "# Adjusted Rand-Index: 0.421\n",
    "# Adjusted_Mutual_Info_Score: 0.411\n",
    "        \n",
    "# 600 :\n",
    "# Homogeneity: 0.488\n",
    "# Completeness: 0.516\n",
    "# Adjusted Rand-Index: 0.519\n",
    "# Adjusted_Mutual_Info_Score: 0.488"
   ]
  },
  {
   "cell_type": "markdown",
   "metadata": {},
   "source": [
    "## Problem 4)"
   ]
  },
  {
   "cell_type": "code",
   "execution_count": 89,
   "metadata": {
    "collapsed": true
   },
   "outputs": [
    {
     "data": {
      "image/png": "[encoded data removed]",
      "text/plain": [
       "<matplotlib.figure.Figure at 0x120bfe790>"
      ]
     },
     "metadata": {},
     "output_type": "display_data"
    }
   ],
   "source": [
    "from sklearn.preprocessing import scale\n",
    "from sklearn.decomposition import PCA\n",
    "data = scale(all_NMF)\n",
    "\n",
    "reduced_data = PCA(n_components=2).fit_transform(data)\n",
    "kmeans = KMeans(init='k-means++', n_clusters=2, n_init=10)\n",
    "kmeans.fit(reduced_data)\n",
    "\n",
    "# Step size of the mesh. Decrease to increase the quality of the VQ.\n",
    "h = .02     # point in the mesh [x_min, x_max]x[y_min, y_max].\n",
    "\n",
    "# Plot the decision boundary. For that, we will assign a color to each\n",
    "x_min, x_max = reduced_data[:, 0].min() - 1, reduced_data[:, 0].max() + 1\n",
    "y_min, y_max = reduced_data[:, 1].min() - 1, reduced_data[:, 1].max() + 1\n",
    "xx, yy = np.meshgrid(np.arange(x_min, x_max, h), np.arange(y_min, y_max, h))\n",
    "\n",
    "# Obtain labels for each point in mesh. Use last trained model.\n",
    "Z = kmeans.predict(np.c_[xx.ravel(), yy.ravel()])\n",
    "\n",
    "# Put the result into a color plot\n",
    "Z = Z.reshape(xx.shape)\n",
    "plt.figure(1)\n",
    "plt.clf()\n",
    "plt.imshow(Z, interpolation='nearest',\n",
    "           extent=(xx.min(), xx.max(), yy.min(), yy.max()),\n",
    "           cmap=plt.cm.Paired,\n",
    "           aspect='auto', origin='lower')\n",
    "\n",
    "plt.plot(reduced_data[:, 0], reduced_data[:, 1], 'k.', markersize=2)\n",
    "# Plot the centroids as a white X\n",
    "centroids = kmeans.cluster_centers_\n",
    "plt.scatter(centroids[:, 0], centroids[:, 1],\n",
    "            marker='x', s=169, linewidths=3,\n",
    "            color='w', zorder=10)\n",
    "plt.title('K-means clustering on the digits dataset (PCA-reduced data)\\n'\n",
    "          'Centroids are marked with white cross')\n",
    "plt.xlim(x_min, x_max)\n",
    "plt.ylim(y_min, y_max)\n",
    "plt.xticks(())\n",
    "plt.yticks(())\n",
    "plt.show()"
   ]
  },
  {
   "cell_type": "markdown",
   "metadata": {},
   "source": [
    "## Problem 5)"
   ]
  },
  {
   "cell_type": "code",
   "execution_count": 90,
   "metadata": {
    "collapsed": true
   },
   "outputs": [],
   "source": [
    "# all 20 subclasses data\n",
    "total_20 = fetch_20newsgroups(subset='all', shuffle=True, random_state=42, remove=('headers','footers','quotes'))\n",
    "TFxIDF_20  = TFxIDF.fit_transform(total_20.data)"
   ]
  },
  {
   "cell_type": "code",
   "execution_count": 91,
   "metadata": {
    "collapsed": false
   },
   "outputs": [
    {
     "name": "stdout",
     "output_type": "stream",
     "text": [
      "Homogeneity: 0.171\n",
      "Completeness: 0.406\n",
      "Adjusted Rand-Index: 0.034\n",
      "Adjusted_Mutual_Info_Score: 0.169\n"
     ]
    }
   ],
   "source": [
    "km = KMeans(n_clusters=20, max_iter = 1000, random_state=42).fit(TFxIDF_20)\n",
    "\n",
    "labels = total_20.target\n",
    "\n",
    "print(\"Homogeneity: %0.3f\" % metrics.homogeneity_score(labels, km.labels_))\n",
    "print(\"Completeness: %0.3f\" % metrics.completeness_score(labels, km.labels_))\n",
    "print(\"Adjusted Rand-Index: %.3f\"\n",
    "      % metrics.adjusted_rand_score(labels, km.labels_))\n",
    "print(\"Adjusted_Mutual_Info_Score: %.3f\"\n",
    "      % metrics.adjusted_mutual_info_score(labels, km.labels_))"
   ]
  },
  {
   "cell_type": "markdown",
   "metadata": {},
   "source": [
    "### LSI, Truncated SVD"
   ]
  },
  {
   "cell_type": "code",
   "execution_count": 92,
   "metadata": {
    "collapsed": false
   },
   "outputs": [
    {
     "name": "stdout",
     "output_type": "stream",
     "text": [
      "Homogeneity: 0.239\n",
      "Completeness: 0.335\n",
      "Adjusted Rand-Index: 0.047\n",
      "Adjusted_Mutual_Info_Score: 0.237\n"
     ]
    }
   ],
   "source": [
    "n_components = 200 #待调参数\n",
    "svd = TruncatedSVD(n_components=n_components, algorithm='arpack')\n",
    "total_20_LSI = svd.fit_transform(TFxIDF_20)\n",
    "kmLSI = KMeans(n_clusters=20, max_iter = 1000, random_state=42).fit(total_20_LSI)\n",
    "\n",
    "print(\"Homogeneity: %0.3f\" % metrics.homogeneity_score(labels, kmLSI.labels_))\n",
    "print(\"Completeness: %0.3f\" % metrics.completeness_score(labels, kmLSI.labels_))\n",
    "print(\"Adjusted Rand-Index: %.3f\"\n",
    "      % metrics.adjusted_rand_score(labels, kmLSI.labels_))\n",
    "print(\"Adjusted_Mutual_Info_Score: %.3f\"\n",
    "      % metrics.adjusted_mutual_info_score(labels, kmLSI.labels_))\n"
   ]
  },
  {
   "cell_type": "markdown",
   "metadata": {},
   "source": [
    "### NMF, Non-Negative Matrix Factorization"
   ]
  },
  {
   "cell_type": "code",
   "execution_count": 95,
   "metadata": {
    "collapsed": false
   },
   "outputs": [
    {
     "name": "stdout",
     "output_type": "stream",
     "text": [
      "Homogeneity: 0.262\n",
      "Completeness: 0.401\n",
      "Adjusted Rand-Index: 0.073\n",
      "Adjusted_Mutual_Info_Score: 0.259\n"
     ]
    }
   ],
   "source": [
    "n_components = 1000\n",
    "nmf = NMF(n_components=n_components, init = 'nndsvd', random_state=0, alpha=.1, l1_ratio=0)\n",
    "total_20_NMF = nmf.fit_transform(TFxIDF_20)\n",
    "\n",
    "kmNMF = KMeans(n_clusters=20, max_iter = 1000, random_state=42).fit(total_20_NMF)\n",
    "\n",
    "print(\"Homogeneity: %0.3f\" % metrics.homogeneity_score(labels, kmNMF.labels_))\n",
    "print(\"Completeness: %0.3f\" % metrics.completeness_score(labels, kmNMF.labels_))\n",
    "print(\"Adjusted Rand-Index: %.3f\"\n",
    "      % metrics.adjusted_rand_score(labels, kmNMF.labels_))\n",
    "print(\"Adjusted_Mutual_Info_Score: %.3f\"\n",
    "      % metrics.adjusted_mutual_info_score(labels, kmNMF.labels_))"
   ]
  },
  {
   "cell_type": "code",
   "execution_count": null,
   "metadata": {
    "collapsed": true
   },
   "outputs": [],
   "source": [
    "# 10 ：\n",
    "#     Homogeneity: 0.218\n",
    "#     Completeness: 0.274\n",
    "#     Adjusted Rand-Index: 0.049\n",
    "#     Adjusted_Mutual_Info_Score: 0.215\n",
    "\n",
    "# 600 ： \n",
    "# Homogeneity: 0.263\n",
    "# Completeness: 0.391\n",
    "# Adjusted Rand-Index: 0.058\n",
    "# Adjusted_Mutual_Info_Score: 0.260\n",
    "\n",
    "# 1000 :\n",
    "#     Homogeneity: 0.262\n",
    "#     Completeness: 0.401\n",
    "#     Adjusted Rand-Index: 0.073\n",
    "#     Adjusted_Mutual_Info_Score: 0.259"
   ]
  },
  {
   "cell_type": "code",
   "execution_count": 115,
   "metadata": {
    "collapsed": false
   },
   "outputs": [],
   "source": [
    "# from sklearn.preprocessing import scale\n",
    "# from sklearn.decomposition import PCA\n",
    "# data = scale(total_20_NMF)\n",
    "\n",
    "# reduced_data = PCA(n_components=20).fit_transform(data)\n",
    "# kmeans = KMeans(init='k-means++', n_clusters=20, n_init=10)\n",
    "# kmeans.fit(reduced_data)\n",
    "\n",
    "# # Step size of the mesh. Decrease to increase the quality of the VQ.\n",
    "# h = .02     # point in the mesh [x_min, x_max]x[y_min, y_max].\n",
    "\n",
    "# # Plot the decision boundary. For that, we will assign a color to each\n",
    "# x_min, x_max = reduced_data[:, 0].min() - 1, reduced_data[:, 0].max() + 1\n",
    "# y_min, y_max = reduced_data[:, 1].min() - 1, reduced_data[:, 1].max() + 1\n",
    "# xx, yy = np.meshgrid(np.arange(x_min, x_max, h), np.arange(y_min, y_max, h))\n",
    "\n",
    "# # Obtain labels for each point in mesh. Use last trained model.\n",
    "# Z = kmeans.predict(np.c_[xx.ravel(), yy.ravel()])\n",
    "\n",
    "# # Put the result into a color plot\n",
    "# Z = Z.reshape(xx.shape)\n",
    "# plt.figure(1)\n",
    "# plt.clf()\n",
    "# plt.imshow(Z, interpolation='nearest',\n",
    "#            extent=(xx.min(), xx.max(), yy.min(), yy.max()),\n",
    "#            cmap=plt.cm.Paired,\n",
    "#            aspect='auto', origin='lower')\n",
    "\n",
    "# plt.plot(reduced_data[:, 0], reduced_data[:, 1], 'k.', markersize=2)\n",
    "# # Plot the centroids as a white X\n",
    "# centroids = kmeans.cluster_centers_\n",
    "# plt.scatter(centroids[:, 0], centroids[:, 1],\n",
    "#             marker='x', s=169, linewidths=3,\n",
    "#             color='w', zorder=10)\n",
    "# plt.title('K-means clustering on the digits dataset (PCA-reduced data)\\n'\n",
    "#           'Centroids are marked with white cross')\n",
    "# plt.xlim(x_min, x_max)\n",
    "# plt.ylim(y_min, y_max)\n",
    "# plt.xticks(())\n",
    "# plt.yticks(())\n",
    "# plt.show()"
   ]
  },
  {
   "cell_type": "markdown",
   "metadata": {},
   "source": [
    "## Problem 6)"
   ]
  },
  {
   "cell_type": "code",
   "execution_count": 98,
   "metadata": {
    "collapsed": false
   },
   "outputs": [],
   "source": [
    "labels = total_20.target\n",
    "## map class label\n",
    "# print labels[0:20]\n",
    "dict = {1 : 0, 2 : 0, 3 : 0, 4 : 0, 5 : 0,\n",
    "        7 : 1, 8 : 1, 9 : 1, 10 : 1,\n",
    "        11 : 2, 12 : 2, 13 : 2, 14 : 2,\n",
    "        6 : 3,\n",
    "        16 : 4, 17 : 4, 18 : 4, \n",
    "        0 : 5, 15 : 5, 19 : 5}\n",
    "i = 0\n",
    "for label in labels:\n",
    "    labels[i] = dict[labels[i]]\n",
    "    i = i+1\n",
    "# print labels[0:20]"
   ]
  },
  {
   "cell_type": "code",
   "execution_count": 99,
   "metadata": {
    "collapsed": false
   },
   "outputs": [
    {
     "name": "stdout",
     "output_type": "stream",
     "text": [
      "Homogeneity: 0.283\n",
      "Completeness: 0.132\n",
      "Adjusted Rand-Index: 0.079\n",
      "Adjusted_Mutual_Info_Score: 0.132\n"
     ]
    }
   ],
   "source": [
    "km = KMeans(n_clusters=6, max_iter = 1000, random_state=42).fit(TFxIDF_20)\n",
    "print(\"Homogeneity: %0.3f\" % metrics.homogeneity_score(labels, km.labels_))\n",
    "print(\"Completeness: %0.3f\" % metrics.completeness_score(labels, km.labels_))\n",
    "print(\"Adjusted Rand-Index: %.3f\"\n",
    "      % metrics.adjusted_rand_score(labels, km.labels_))\n",
    "print(\"Adjusted_Mutual_Info_Score: %.3f\"\n",
    "      % metrics.adjusted_mutual_info_score(labels, km.labels_))"
   ]
  },
  {
   "cell_type": "markdown",
   "metadata": {},
   "source": [
    "### LSI, Truncated SVD"
   ]
  },
  {
   "cell_type": "code",
   "execution_count": 105,
   "metadata": {
    "collapsed": false
   },
   "outputs": [
    {
     "name": "stdout",
     "output_type": "stream",
     "text": [
      "Homogeneity: 0.248\n",
      "Completeness: 0.137\n",
      "Adjusted Rand-Index: 0.098\n",
      "Adjusted_Mutual_Info_Score: 0.137\n"
     ]
    }
   ],
   "source": [
    "n_components = 200 #待调参数\n",
    "svd = TruncatedSVD(n_components=n_components, algorithm='arpack')\n",
    "total_20_LSI = svd.fit_transform(TFxIDF_20)\n",
    "kmLSI = KMeans(n_clusters=6, max_iter = 1000, random_state=42).fit(total_20_LSI)\n",
    "\n",
    "print(\"Homogeneity: %0.3f\" % metrics.homogeneity_score(labels, kmLSI.labels_))\n",
    "print(\"Completeness: %0.3f\" % metrics.completeness_score(labels, kmLSI.labels_))\n",
    "print(\"Adjusted Rand-Index: %.3f\"\n",
    "      % metrics.adjusted_rand_score(labels, kmLSI.labels_))\n",
    "print(\"Adjusted_Mutual_Info_Score: %.3f\"\n",
    "      % metrics.adjusted_mutual_info_score(labels, kmLSI.labels_))"
   ]
  },
  {
   "cell_type": "code",
   "execution_count": null,
   "metadata": {
    "collapsed": true
   },
   "outputs": [],
   "source": [
    "# 200 :\n",
    "#     Homogeneity: 0.248\n",
    "#     Completeness: 0.137\n",
    "#     Adjusted Rand-Index: 0.098\n",
    "#     Adjusted_Mutual_Info_Score: 0.137\n",
    "\n",
    "# 500 ：\n",
    "#     Homogeneity: 0.285\n",
    "#     Completeness: 0.136\n",
    "#     Adjusted Rand-Index: 0.096\n",
    "#     Adjusted_Mutual_Info_Score: 0.136"
   ]
  },
  {
   "cell_type": "markdown",
   "metadata": {},
   "source": [
    "### NMF, Non-Negative Matrix Factorization"
   ]
  },
  {
   "cell_type": "code",
   "execution_count": 114,
   "metadata": {
    "collapsed": false
   },
   "outputs": [
    {
     "name": "stdout",
     "output_type": "stream",
     "text": [
      "Homogeneity: 0.330\n",
      "Completeness: 0.145\n",
      "Adjusted Rand-Index: 0.118\n",
      "Adjusted_Mutual_Info_Score: 0.145\n"
     ]
    }
   ],
   "source": [
    "n_components = 200\n",
    "nmf = NMF(n_components=n_components, init = 'nndsvd', random_state=0, alpha=.1, l1_ratio=0)\n",
    "total_20_NMF = nmf.fit_transform(TFxIDF_20)\n",
    "\n",
    "kmNMF = KMeans(n_clusters=6, max_iter = 1000, random_state=42).fit(total_20_NMF)\n",
    "\n",
    "print(\"Homogeneity: %0.3f\" % metrics.homogeneity_score(labels, kmNMF.labels_))\n",
    "print(\"Completeness: %0.3f\" % metrics.completeness_score(labels, kmNMF.labels_))\n",
    "print(\"Adjusted Rand-Index: %.3f\"\n",
    "      % metrics.adjusted_rand_score(labels, kmNMF.labels_))\n",
    "print(\"Adjusted_Mutual_Info_Score: %.3f\"\n",
    "      % metrics.adjusted_mutual_info_score(labels, kmNMF.labels_))"
   ]
  },
  {
   "cell_type": "code",
   "execution_count": null,
   "metadata": {
    "collapsed": true
   },
   "outputs": [],
   "source": [
    "# 30:\n",
    "#     Homogeneity: 0.203\n",
    "#     Completeness: 0.125\n",
    "#     Adjusted Rand-Index: 0.186\n",
    "#     Adjusted_Mutual_Info_Score: 0.125\n",
    "\n",
    "# 50:\n",
    "#     Homogeneity: 0.249\n",
    "#     Completeness: 0.124\n",
    "#     Adjusted Rand-Index: 0.063\n",
    "#     Adjusted_Mutual_Info_Score: 0.124\n",
    "\n",
    "# 90\n",
    "#     Homogeneity: 0.318\n",
    "#     Completeness: 0.173\n",
    "#     Adjusted Rand-Index: 0.239\n",
    "#     Adjusted_Mutual_Info_Score: 0.173\n",
    "\n",
    "# 200\n",
    "#     Homogeneity: 0.330\n",
    "#     Completeness: 0.145\n",
    "#     Adjusted Rand-Index: 0.118\n",
    "#     Adjusted_Mutual_Info_Score: 0.145"
   ]
  }
 ],
 "metadata": {
  "kernelspec": {
   "display_name": "Python [default]",
   "language": "python",
   "name": "python2"
  },
  "language_info": {
   "codemirror_mode": {
    "name": "ipython",
    "version": 2
   },
   "file_extension": ".py",
   "mimetype": "text/x-python",
   "name": "python",
   "nbconvert_exporter": "python",
   "pygments_lexer": "ipython2",
   "version": "2.7.12"
  }
 },
 "nbformat": 4,
 "nbformat_minor": 1
}
